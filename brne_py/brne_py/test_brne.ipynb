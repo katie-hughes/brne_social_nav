{
 "cells": [
  {
   "cell_type": "code",
   "execution_count": 8,
   "metadata": {},
   "outputs": [],
   "source": [
    "from brne import *\n",
    "from traj_tracker import *\n",
    "np.set_printoptions(suppress=True)"
   ]
  },
  {
   "cell_type": "code",
   "execution_count": 12,
   "metadata": {},
   "outputs": [],
   "source": [
    "plan_steps = 25\n",
    "dt = 0.1\n",
    "kernel_a1 = 0.2\n",
    "kernel_a2 = 0.2\n",
    "cost_a1 = 4.0\n",
    "cost_a2 = 1.0\n",
    "cost_a3 = 80.0\n",
    "n_samples = 196\n",
    "\n",
    "max_ang_vel = 1.0\n",
    "max_lin_vel = 0.6\n",
    "nominal_vel = 0.4\n",
    "ped_sample_scale = 0.1\n",
    "ymin = -0.75\n",
    "ymax = 0.75\n",
    "\n",
    "# x, y, yaw.\n",
    "state = np.array([0,0,0],dtype=float)\n",
    "# X, Y\n",
    "goal = np.array([5,0],dtype=float)\n",
    "# ped\n",
    "peds = []\n",
    "\n",
    "n_agents = len(peds) + 1\n",
    "\n",
    "\n",
    "tt = TrajTracker(dt, max_lin_vel, max_ang_vel)   "
   ]
  },
  {
   "cell_type": "code",
   "execution_count": 13,
   "metadata": {},
   "outputs": [
    {
     "name": "stdout",
     "output_type": "stream",
     "text": [
      "Tlist (25,)\n",
      "train ts (1,)\n",
      "test ts (25,)\n",
      "Train noise (1,)\n",
      "Cov lmat (25, 25)\n",
      "Cov mat (25, 25)\n"
     ]
    }
   ],
   "source": [
    "# this is only done once during the initialization\n",
    "tlist = np.arange(plan_steps) * 0.1\n",
    "train_ts = np.array([tlist[0]])\n",
    "train_noise = np.array([1e-04])\n",
    "test_ts = tlist\n",
    "\n",
    "print(f\"Tlist {tlist.shape}\")\n",
    "print(f\"train ts {train_ts.shape}\")\n",
    "print(f\"test ts {test_ts.shape}\")\n",
    "print(f\"Train noise {train_noise.shape}\")\n",
    "\n",
    "cov_Lmat, cov_mat = get_Lmat_nb(train_ts, test_ts, train_noise, kernel_a1, kernel_a2)\n",
    "print(f\"Cov lmat {cov_Lmat.shape}\")\n",
    "print(f\"Cov mat {cov_mat.shape}\")\n"
   ]
  },
  {
   "cell_type": "code",
   "execution_count": 15,
   "metadata": {},
   "outputs": [
    {
     "name": "stdout",
     "output_type": "stream",
     "text": [
      "X pts (0, 25)\n",
      "Y pts (0, 25)\n",
      "Nominal cmds (25, 2)\n",
      "Ulists (25, 196, 2)\n",
      "Trajs (25, 3, 196)\n",
      "Opt cmds 1 (25,)\n",
      "Opt cmds 2 (25,)\n",
      "Cmds (25, 2)\n",
      "Cmds traj (26, 3)\n"
     ]
    }
   ],
   "source": [
    "\n",
    "# Test one iteration\n",
    "x_pts = mvn_sample_normal((n_agents-1)*n_samples, plan_steps, cov_Lmat)\n",
    "y_pts = mvn_sample_normal((n_agents-1)*n_samples, plan_steps, cov_Lmat)\n",
    "\n",
    "print(f\"X pts {x_pts.shape}\")\n",
    "print(f\"Y pts {y_pts.shape}\")\n",
    "\n",
    "theta_a = state[2]\n",
    "if state[2] > 0.0:\n",
    "    theta_a -= np.pi/2\n",
    "else:\n",
    "    theta_a += np.pi/2\n",
    "axis_vec = np.array([np.cos(theta_a), np.sin(theta_a)])\n",
    "vec_to_goal = goal - state[:2]\n",
    "dist_to_goal = np.linalg.norm(vec_to_goal)\n",
    "proj_len = (axis_vec @ vec_to_goal) / (vec_to_goal @ vec_to_goal) * dist_to_goal\n",
    "radius = 0.5 * dist_to_goal / proj_len\n",
    "\n",
    "ut = np.array([nominal_vel, 0])\n",
    "if state[2] > 0.0:\n",
    "    ut[1] -= nominal_vel/radius\n",
    "else:\n",
    "    ut[1] += nominal_vel/radius\n",
    "\n",
    "nominal_cmds = np.tile(ut, reps=(plan_steps,1))\n",
    "\n",
    "print(f\"Nominal cmds {nominal_cmds.shape}\")\n",
    "\n",
    "ulists = get_ulist_essemble(\n",
    "                nominal_cmds, nominal_vel+0.05, max_ang_vel, n_samples)\n",
    "\n",
    "print(f\"Ulists {ulists.shape}\")\n",
    "\n",
    "trajs = traj_sim_essemble(\n",
    "                np.tile(state, reps=(n_samples,1)).T,\n",
    "                ulists,\n",
    "                dt)\n",
    "\n",
    "print(f\"Trajs {trajs.shape}\")\n",
    "\n",
    "xtraj_samples = np.zeros((n_agents * n_samples, plan_steps))\n",
    "ytraj_samples = np.zeros((n_agents * n_samples, plan_steps))\n",
    "\n",
    "# update samples with pedestrian info. for now assume none\n",
    "\n",
    "xtraj_samples[0:n_samples] = trajs[:,0,:].T\n",
    "ytraj_samples[0:n_samples] = trajs[:,1,:].T\n",
    "\n",
    "weights = brne_nav(\n",
    "            xtraj_samples, ytraj_samples,\n",
    "            n_agents, plan_steps, n_samples,\n",
    "            cost_a1, cost_a2, cost_a3, ped_sample_scale,\n",
    "            ymin, ymax\n",
    "            )\n",
    "\n",
    "# there is a safety mask that I have not applied\n",
    "\n",
    "opt_cmds_1 = np.mean(ulists[:,:,0] * weights[0], axis=1)\n",
    "opt_cmds_2 = np.mean(ulists[:,:,1] * weights[0], axis=1)\n",
    "cmds = np.array([opt_cmds_1, opt_cmds_2]).T\n",
    "cmds_traj = tt.sim_traj(state, cmds)\n",
    "\n",
    "print(f\"Opt cmds 1 {opt_cmds_1.shape}\")\n",
    "print(f\"Opt cmds 2 {opt_cmds_2.shape}\")\n",
    "print(f\"Cmds {cmds.shape}\")\n",
    "print(f\"Cmds traj {cmds_traj.shape}\")"
   ]
  }
 ],
 "metadata": {
  "kernelspec": {
   "display_name": "Python 3",
   "language": "python",
   "name": "python3"
  },
  "language_info": {
   "codemirror_mode": {
    "name": "ipython",
    "version": 3
   },
   "file_extension": ".py",
   "mimetype": "text/x-python",
   "name": "python",
   "nbconvert_exporter": "python",
   "pygments_lexer": "ipython3",
   "version": "3.10.12"
  }
 },
 "nbformat": 4,
 "nbformat_minor": 2
}
